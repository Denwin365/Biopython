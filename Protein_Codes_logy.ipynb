{
  "nbformat": 4,
  "nbformat_minor": 0,
  "metadata": {
    "colab": {
      "provenance": [],
      "toc_visible": true,
      "authorship_tag": "ABX9TyNrhJex51kF8nB4eAGQJ6VM",
      "include_colab_link": true
    },
    "kernelspec": {
      "name": "python3",
      "display_name": "Python 3"
    },
    "language_info": {
      "name": "python"
    }
  },
  "cells": [
    {
      "cell_type": "markdown",
      "metadata": {
        "id": "view-in-github",
        "colab_type": "text"
      },
      "source": [
        "<a href=\"https://colab.research.google.com/github/Denwin365/Biopython/blob/main/Protein_Codes_logy.ipynb\" target=\"_parent\"><img src=\"https://colab.research.google.com/assets/colab-badge.svg\" alt=\"Open In Colab\"/></a>"
      ]
    },
    {
      "cell_type": "code",
      "source": [
        "!pip install biopython\n",
        "import Bio\n",
        "print(Bio.__version__)\n",
        "\n",
        "from Bio.Seq import Seq\n",
        "#from Bio.Alphabet import IUPAC # This module has been removed\n",
        "\n",
        "# Define the DNA sequence\n",
        "#dna_sequence = Seq(\"ATGCGTAGCATCGAT\", IUPAC.unambiguous_dna) # Remove the alphabet argument\n",
        "dna_sequence = Seq(\"ATGCGTAGCATCGAT\")\n",
        "\n",
        "# Transcribe to mRNA\n",
        "mrna_sequence = dna_sequence.transcribe()\n",
        "\n",
        "# Translate to protein\n",
        "protein_sequence = mrna_sequence.translate()\n",
        "\n",
        "# Print the results\n",
        "print(\"DNA sequence:\", dna_sequence)\n",
        "print(\"mRNA sequence:\", mrna_sequence)\n",
        "print(\"Protein sequence:\", protein_sequence)\n",
        "\n"
      ],
      "metadata": {
        "colab": {
          "base_uri": "https://localhost:8080/"
        },
        "id": "lZMSJnW7dmKX",
        "outputId": "28d878ee-5a05-4358-a5d5-857f32c4b4cf"
      },
      "execution_count": 5,
      "outputs": [
        {
          "output_type": "stream",
          "name": "stdout",
          "text": [
            "Requirement already satisfied: biopython in /usr/local/lib/python3.11/dist-packages (1.85)\n",
            "Requirement already satisfied: numpy in /usr/local/lib/python3.11/dist-packages (from biopython) (1.26.4)\n",
            "1.85\n",
            "DNA sequence: ATGCGTAGCATCGAT\n",
            "mRNA sequence: AUGCGUAGCAUCGAU\n",
            "Protein sequence: MRSID\n"
          ]
        }
      ]
    },
    {
      "cell_type": "markdown",
      "source": [
        "Three-Letter Amino Acid Codes\n",
        "You can use the seq3 function to convert a protein sequence from one-letter code to three-letter code and vice versa."
      ],
      "metadata": {
        "id": "gzblf-NyfMnO"
      }
    },
    {
      "cell_type": "code",
      "source": [
        "!pip install biopython\n",
        "from Bio.SeqUtils import seq3, seq1\n",
        "\n",
        "one_letter_seq = \"MAIVMGR\"\n",
        "three_letter_seq = seq3(one_letter_seq)\n",
        "print(\"Three-letter sequence:\", three_letter_seq)  # Output: MetAlaIleValMetGlyArg\n",
        "\n",
        "# Converting back to one-letter code\n",
        "one_letter_seq_again = seq1(three_letter_seq)\n",
        "print(\"One-letter sequence:\", one_letter_seq_again)  # Output: MAIVMGR"
      ],
      "metadata": {
        "colab": {
          "base_uri": "https://localhost:8080/"
        },
        "id": "VnasYcEZfRSo",
        "outputId": "88f0efef-988e-46b9-e2b6-f03df2c49c8d"
      },
      "execution_count": 6,
      "outputs": [
        {
          "output_type": "stream",
          "name": "stdout",
          "text": [
            "Requirement already satisfied: biopython in /usr/local/lib/python3.11/dist-packages (1.85)\n",
            "Requirement already satisfied: numpy in /usr/local/lib/python3.11/dist-packages (from biopython) (1.26.4)\n",
            "Three-letter sequence: MetAlaIleValMetGlyArg\n",
            "One-letter sequence: MAIVMGR\n"
          ]
        }
      ]
    },
    {
      "cell_type": "markdown",
      "source": [
        "Sequence Alignment\n",
        "Biopython provides tools for performing sequence alignments using various algorithms. Here's a simple example using pairwise alignment:"
      ],
      "metadata": {
        "id": "LAQylUXzfZht"
      }
    },
    {
      "cell_type": "code",
      "source": [
        "!pip install biopython\n",
        "from Bio import pairwise2\n",
        "from Bio.Seq import Seq\n",
        "\n",
        "seq1 = Seq(\"ACCGT\")\n",
        "seq2 = Seq(\"ACG\")\n",
        "\n",
        "alignments = pairwise2.align.globalxx(seq1, seq2)\n",
        "\n",
        "# Print the alignments\n",
        "for alignment in alignments:\n",
        "    print(pairwise2.format_alignment(*alignment))"
      ],
      "metadata": {
        "colab": {
          "base_uri": "https://localhost:8080/"
        },
        "id": "sN-U0p7jfadP",
        "outputId": "3e4bd8aa-43fa-4476-8931-a37b08ac3f01"
      },
      "execution_count": 7,
      "outputs": [
        {
          "output_type": "stream",
          "name": "stdout",
          "text": [
            "Requirement already satisfied: biopython in /usr/local/lib/python3.11/dist-packages (1.85)\n",
            "Requirement already satisfied: numpy in /usr/local/lib/python3.11/dist-packages (from biopython) (1.26.4)\n",
            "ACCGT\n",
            "| || \n",
            "A-CG-\n",
            "  Score=3\n",
            "\n",
            "ACCGT\n",
            "|| | \n",
            "AC-G-\n",
            "  Score=3\n",
            "\n"
          ]
        },
        {
          "output_type": "stream",
          "name": "stderr",
          "text": [
            "/usr/local/lib/python3.11/dist-packages/Bio/pairwise2.py:278: BiopythonDeprecationWarning: Bio.pairwise2 has been deprecated, and we intend to remove it in a future release of Biopython. As an alternative, please consider using Bio.Align.PairwiseAligner as a replacement, and contact the Biopython developers if you still need the Bio.pairwise2 module.\n",
            "  warnings.warn(\n"
          ]
        }
      ]
    },
    {
      "cell_type": "markdown",
      "source": [
        "Working with Protein Databases\n",
        "Biopython enables you to access and work with protein databases like UniProt."
      ],
      "metadata": {
        "id": "Wz4eRAK6fmBk"
      }
    },
    {
      "cell_type": "code",
      "source": [
        "!pip install biopython\n",
        "from Bio import ExPASy\n",
        "from Bio import SwissProt\n",
        "\n",
        "handle = ExPASy.get_sprot_raw('P29353') # UniProt ID for human insulin receptor\n",
        "record = SwissProt.read(handle)\n",
        "\n",
        "# Accessing protein information\n",
        "print(\"Protein ID:\", record.entry_name)\n",
        "print(\"Protein description:\", record.description)\n",
        "print(\"Sequence:\", record.sequence)\n",
        "#And many more functionalities... (check the documentation)"
      ],
      "metadata": {
        "colab": {
          "base_uri": "https://localhost:8080/"
        },
        "id": "smRp_zM9frf0",
        "outputId": "67c74024-fd80-48f2-f90a-ff00d8bb9daf"
      },
      "execution_count": 8,
      "outputs": [
        {
          "output_type": "stream",
          "name": "stdout",
          "text": [
            "Requirement already satisfied: biopython in /usr/local/lib/python3.11/dist-packages (1.85)\n",
            "Requirement already satisfied: numpy in /usr/local/lib/python3.11/dist-packages (from biopython) (1.26.4)\n",
            "Protein ID: SHC1_HUMAN\n",
            "Protein description: RecName: Full=SHC-transforming protein 1; AltName: Full=SHC-transforming protein 3; AltName: Full=SHC-transforming protein A; AltName: Full=Src homology 2 domain-containing-transforming protein C1; Short=SH2 domain protein C1;\n",
            "Sequence: MDLLPPKPKYNPLRNESLSSLEEGASGSTPPEELPSPSASSLGPILPPLPGDDSPTTLCSFFPRMSNLRLANPAGGRPGSKGEPGRAADDGEGIVGAAMPDSGPLPLLQDMNKLSGGGGRRTRVEGGQLGGEEWTRHGSFVNKPTRGWLHPNDKVMGPGVSYLVRYMGCVEVLQSMRALDFNTRTQVTREAISLVCEAVPGAKGATRRRKPCSRPLSSILGRSNLKFAGMPITLTVSTSSLNLMAADCKQIIANHHMQSISFASGGDPDTAEYVAYVAKDPVNQRACHILECPEGLAQDVISTIGQAFELRFKQYLRNPPKLVTPHDRMAGFDGSAWDEEEEEPPDHQYYNDFPGKEPPLGGVVDMRLREGAAPGAARPTAPNAQTPSHLGATLPVGQPVGGDPEVRKQMPPPPPCPGRELFDDPSYVNVQNLDKARQAVGGAGPPNPAINGSAPRDLFDMKPFEDALRVPPPPQSVSMAEQLRGEPWFHGKLSRREAEALLQLNGDFLVRESTTTPGQYVLTGLQSGQPKHLLLVDPEGVVRTKDHRFESVSHLISYHMDNHLPIISAGSELCLQQPVERKL\n"
          ]
        }
      ]
    }
  ]
}